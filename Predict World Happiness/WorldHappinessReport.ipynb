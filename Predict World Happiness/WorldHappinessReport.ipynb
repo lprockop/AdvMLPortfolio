{
 "cells": [
  {
   "cell_type": "markdown",
   "metadata": {
    "id": "RO7Y6CEIRFWx"
   },
   "source": [
    "# Task: Predict a country's happiness level\n",
    "\n",
    "02/06/2023  \n",
    "\n",
    "[Link to GitHub repo](https://github.com/lprockop/WorldHappinessReport)"
   ]
  },
  {
   "cell_type": "markdown",
   "metadata": {
    "id": "P7KP3y2zStbq"
   },
   "source": [
    "# Import data"
   ]
  },
  {
   "cell_type": "code",
   "execution_count": 1,
   "metadata": {
    "id": "BR1KsaOVNjRm"
   },
   "outputs": [],
   "source": [
    "import pandas as pd\n",
    "import numpy as np\n",
    "import matplotlib.pyplot as plt\n",
    "from zipfile import ZipFile"
   ]
  },
  {
   "cell_type": "code",
   "execution_count": 2,
   "metadata": {
    "colab": {
     "base_uri": "https://localhost:8080/",
     "height": 478
    },
    "id": "u7dL_0QlTPOf",
    "outputId": "054a3f7e-598e-4823-ec45-573fef3b43e4"
   },
   "outputs": [
    {
     "data": {
      "text/html": [
       "<div>\n",
       "<style scoped>\n",
       "    .dataframe tbody tr th:only-of-type {\n",
       "        vertical-align: middle;\n",
       "    }\n",
       "\n",
       "    .dataframe tbody tr th {\n",
       "        vertical-align: top;\n",
       "    }\n",
       "\n",
       "    .dataframe thead th {\n",
       "        text-align: right;\n",
       "    }\n",
       "</style>\n",
       "<table border=\"1\" class=\"dataframe\">\n",
       "  <thead>\n",
       "    <tr style=\"text-align: right;\">\n",
       "      <th></th>\n",
       "      <th>Country or region</th>\n",
       "      <th>GDP per capita</th>\n",
       "      <th>Social support</th>\n",
       "      <th>Healthy life expectancy</th>\n",
       "      <th>Freedom to make life choices</th>\n",
       "      <th>Generosity</th>\n",
       "      <th>Perceptions of corruption</th>\n",
       "      <th>name</th>\n",
       "      <th>region</th>\n",
       "      <th>sub-region</th>\n",
       "      <th>Terrorist_attacks</th>\n",
       "    </tr>\n",
       "  </thead>\n",
       "  <tbody>\n",
       "    <tr>\n",
       "      <th>0</th>\n",
       "      <td>Peru</td>\n",
       "      <td>0.960</td>\n",
       "      <td>1.274</td>\n",
       "      <td>0.854</td>\n",
       "      <td>0.455</td>\n",
       "      <td>0.083</td>\n",
       "      <td>0.027</td>\n",
       "      <td>Peru</td>\n",
       "      <td>Americas</td>\n",
       "      <td>Latin America and the Caribbean</td>\n",
       "      <td>18.000000</td>\n",
       "    </tr>\n",
       "    <tr>\n",
       "      <th>1</th>\n",
       "      <td>Nicaragua</td>\n",
       "      <td>0.694</td>\n",
       "      <td>1.325</td>\n",
       "      <td>0.835</td>\n",
       "      <td>0.435</td>\n",
       "      <td>0.200</td>\n",
       "      <td>0.127</td>\n",
       "      <td>Nicaragua</td>\n",
       "      <td>Americas</td>\n",
       "      <td>Latin America and the Caribbean</td>\n",
       "      <td>125.611111</td>\n",
       "    </tr>\n",
       "    <tr>\n",
       "      <th>2</th>\n",
       "      <td>Greece</td>\n",
       "      <td>1.181</td>\n",
       "      <td>1.156</td>\n",
       "      <td>0.999</td>\n",
       "      <td>0.067</td>\n",
       "      <td>0.000</td>\n",
       "      <td>0.034</td>\n",
       "      <td>Greece</td>\n",
       "      <td>Europe</td>\n",
       "      <td>Southern Europe</td>\n",
       "      <td>112.000000</td>\n",
       "    </tr>\n",
       "    <tr>\n",
       "      <th>3</th>\n",
       "      <td>Qatar</td>\n",
       "      <td>1.684</td>\n",
       "      <td>1.313</td>\n",
       "      <td>0.871</td>\n",
       "      <td>0.555</td>\n",
       "      <td>0.220</td>\n",
       "      <td>0.167</td>\n",
       "      <td>Qatar</td>\n",
       "      <td>Asia</td>\n",
       "      <td>Western Asia</td>\n",
       "      <td>57.333333</td>\n",
       "    </tr>\n",
       "    <tr>\n",
       "      <th>4</th>\n",
       "      <td>Uzbekistan</td>\n",
       "      <td>0.745</td>\n",
       "      <td>1.529</td>\n",
       "      <td>0.756</td>\n",
       "      <td>0.631</td>\n",
       "      <td>0.322</td>\n",
       "      <td>0.240</td>\n",
       "      <td>Uzbekistan</td>\n",
       "      <td>Asia</td>\n",
       "      <td>Central Asia</td>\n",
       "      <td>125.611111</td>\n",
       "    </tr>\n",
       "  </tbody>\n",
       "</table>\n",
       "</div>"
      ],
      "text/plain": [
       "  Country or region  GDP per capita  Social support  Healthy life expectancy  \\\n",
       "0              Peru           0.960           1.274                    0.854   \n",
       "1         Nicaragua           0.694           1.325                    0.835   \n",
       "2            Greece           1.181           1.156                    0.999   \n",
       "3             Qatar           1.684           1.313                    0.871   \n",
       "4        Uzbekistan           0.745           1.529                    0.756   \n",
       "\n",
       "   Freedom to make life choices  Generosity  Perceptions of corruption  \\\n",
       "0                         0.455       0.083                      0.027   \n",
       "1                         0.435       0.200                      0.127   \n",
       "2                         0.067       0.000                      0.034   \n",
       "3                         0.555       0.220                      0.167   \n",
       "4                         0.631       0.322                      0.240   \n",
       "\n",
       "         name    region                       sub-region  Terrorist_attacks  \n",
       "0        Peru  Americas  Latin America and the Caribbean          18.000000  \n",
       "1   Nicaragua  Americas  Latin America and the Caribbean         125.611111  \n",
       "2      Greece    Europe                  Southern Europe         112.000000  \n",
       "3       Qatar      Asia                     Western Asia          57.333333  \n",
       "4  Uzbekistan      Asia                     Central Asia         125.611111  "
      ]
     },
     "execution_count": 2,
     "metadata": {},
     "output_type": "execute_result"
    }
   ],
   "source": [
    "# loading the temp.zip and creating a zip object\n",
    "with ZipFile(\"Input/world_happiness_competition_data.zip\", 'r') as zObject:\n",
    "  \n",
    "    # Extracting all the members of the zip \n",
    "    # into a specific location.\n",
    "    zObject.extractall('Input/')\n",
    "\n",
    "# Load data\n",
    "X_train = pd.read_csv('Input/world_happiness_competition_data/X_train.csv')\n",
    "X_test = pd.read_csv('Input/world_happiness_competition_data/X_test.csv')\n",
    "y_train = pd.read_csv('Input/world_happiness_competition_data/y_train.csv')\n",
    "y_train_labels = y_train.idxmax(axis=1)\n",
    "\n",
    "X_train.head()"
   ]
  },
  {
   "cell_type": "code",
   "execution_count": 3,
   "metadata": {},
   "outputs": [
    {
     "data": {
      "text/plain": [
       "88"
      ]
     },
     "execution_count": 3,
     "metadata": {},
     "output_type": "execute_result"
    }
   ],
   "source": [
    "len(X_train)"
   ]
  },
  {
   "cell_type": "code",
   "execution_count": 4,
   "metadata": {
    "colab": {
     "base_uri": "https://localhost:8080/",
     "height": 507
    },
    "id": "fxBbOEGGByZ2",
    "outputId": "8febb45b-fb21-4eb2-f031-7a084fc31278"
   },
   "outputs": [
    {
     "data": {
      "text/html": [
       "<div>\n",
       "<style scoped>\n",
       "    .dataframe tbody tr th:only-of-type {\n",
       "        vertical-align: middle;\n",
       "    }\n",
       "\n",
       "    .dataframe tbody tr th {\n",
       "        vertical-align: top;\n",
       "    }\n",
       "\n",
       "    .dataframe thead th {\n",
       "        text-align: right;\n",
       "    }\n",
       "</style>\n",
       "<table border=\"1\" class=\"dataframe\">\n",
       "  <thead>\n",
       "    <tr style=\"text-align: right;\">\n",
       "      <th></th>\n",
       "      <th>Country or region</th>\n",
       "      <th>GDP per capita</th>\n",
       "      <th>Social support</th>\n",
       "      <th>Healthy life expectancy</th>\n",
       "      <th>Freedom to make life choices</th>\n",
       "      <th>Generosity</th>\n",
       "      <th>Perceptions of corruption</th>\n",
       "      <th>name</th>\n",
       "      <th>region</th>\n",
       "      <th>sub-region</th>\n",
       "      <th>Terrorist_attacks</th>\n",
       "      <th>country_name</th>\n",
       "      <th>population</th>\n",
       "      <th>population_below_poverty_line</th>\n",
       "      <th>hdi</th>\n",
       "      <th>life_expectancy</th>\n",
       "      <th>expected_years_of_schooling</th>\n",
       "      <th>mean_years_of_schooling</th>\n",
       "      <th>gni</th>\n",
       "    </tr>\n",
       "  </thead>\n",
       "  <tbody>\n",
       "    <tr>\n",
       "      <th>0</th>\n",
       "      <td>Peru</td>\n",
       "      <td>0.960</td>\n",
       "      <td>1.274</td>\n",
       "      <td>0.854</td>\n",
       "      <td>0.455</td>\n",
       "      <td>0.083</td>\n",
       "      <td>0.027</td>\n",
       "      <td>Peru</td>\n",
       "      <td>Americas</td>\n",
       "      <td>Latin America and the Caribbean</td>\n",
       "      <td>18.000000</td>\n",
       "      <td>Peru</td>\n",
       "      <td>32165485.0</td>\n",
       "      <td>22.7</td>\n",
       "      <td>0.739749</td>\n",
       "      <td>74.814</td>\n",
       "      <td>13.38634</td>\n",
       "      <td>9.013470</td>\n",
       "      <td>11294.840330</td>\n",
       "    </tr>\n",
       "    <tr>\n",
       "      <th>1</th>\n",
       "      <td>Nicaragua</td>\n",
       "      <td>0.694</td>\n",
       "      <td>1.325</td>\n",
       "      <td>0.835</td>\n",
       "      <td>0.435</td>\n",
       "      <td>0.200</td>\n",
       "      <td>0.127</td>\n",
       "      <td>Nicaragua</td>\n",
       "      <td>Americas</td>\n",
       "      <td>Latin America and the Caribbean</td>\n",
       "      <td>125.611111</td>\n",
       "      <td>Nicaragua</td>\n",
       "      <td>6217581.0</td>\n",
       "      <td>29.6</td>\n",
       "      <td>0.645203</td>\n",
       "      <td>75.212</td>\n",
       "      <td>11.67000</td>\n",
       "      <td>6.544000</td>\n",
       "      <td>4746.699464</td>\n",
       "    </tr>\n",
       "    <tr>\n",
       "      <th>2</th>\n",
       "      <td>Greece</td>\n",
       "      <td>1.181</td>\n",
       "      <td>1.156</td>\n",
       "      <td>0.999</td>\n",
       "      <td>0.067</td>\n",
       "      <td>0.000</td>\n",
       "      <td>0.034</td>\n",
       "      <td>Greece</td>\n",
       "      <td>Europe</td>\n",
       "      <td>Southern Europe</td>\n",
       "      <td>112.000000</td>\n",
       "      <td>Greece</td>\n",
       "      <td>11159773.0</td>\n",
       "      <td>36.0</td>\n",
       "      <td>0.865873</td>\n",
       "      <td>81.071</td>\n",
       "      <td>17.21752</td>\n",
       "      <td>10.539460</td>\n",
       "      <td>24807.535890</td>\n",
       "    </tr>\n",
       "    <tr>\n",
       "      <th>3</th>\n",
       "      <td>Qatar</td>\n",
       "      <td>1.684</td>\n",
       "      <td>1.313</td>\n",
       "      <td>0.871</td>\n",
       "      <td>0.555</td>\n",
       "      <td>0.220</td>\n",
       "      <td>0.167</td>\n",
       "      <td>Qatar</td>\n",
       "      <td>Asia</td>\n",
       "      <td>Western Asia</td>\n",
       "      <td>57.333333</td>\n",
       "      <td>Qatar</td>\n",
       "      <td>2639211.0</td>\n",
       "      <td>NaN</td>\n",
       "      <td>0.855531</td>\n",
       "      <td>78.323</td>\n",
       "      <td>13.40610</td>\n",
       "      <td>9.764630</td>\n",
       "      <td>129915.600900</td>\n",
       "    </tr>\n",
       "    <tr>\n",
       "      <th>4</th>\n",
       "      <td>Uzbekistan</td>\n",
       "      <td>0.745</td>\n",
       "      <td>1.529</td>\n",
       "      <td>0.756</td>\n",
       "      <td>0.631</td>\n",
       "      <td>0.322</td>\n",
       "      <td>0.240</td>\n",
       "      <td>Uzbekistan</td>\n",
       "      <td>Asia</td>\n",
       "      <td>Central Asia</td>\n",
       "      <td>125.611111</td>\n",
       "      <td>Uzbekistan</td>\n",
       "      <td>31910641.0</td>\n",
       "      <td>14.0</td>\n",
       "      <td>0.700668</td>\n",
       "      <td>69.400</td>\n",
       "      <td>12.16651</td>\n",
       "      <td>12.048045</td>\n",
       "      <td>5748.226043</td>\n",
       "    </tr>\n",
       "  </tbody>\n",
       "</table>\n",
       "</div>"
      ],
      "text/plain": [
       "  Country or region  GDP per capita  Social support  Healthy life expectancy  \\\n",
       "0              Peru           0.960           1.274                    0.854   \n",
       "1         Nicaragua           0.694           1.325                    0.835   \n",
       "2            Greece           1.181           1.156                    0.999   \n",
       "3             Qatar           1.684           1.313                    0.871   \n",
       "4        Uzbekistan           0.745           1.529                    0.756   \n",
       "\n",
       "   Freedom to make life choices  Generosity  Perceptions of corruption  \\\n",
       "0                         0.455       0.083                      0.027   \n",
       "1                         0.435       0.200                      0.127   \n",
       "2                         0.067       0.000                      0.034   \n",
       "3                         0.555       0.220                      0.167   \n",
       "4                         0.631       0.322                      0.240   \n",
       "\n",
       "         name    region                       sub-region  Terrorist_attacks  \\\n",
       "0        Peru  Americas  Latin America and the Caribbean          18.000000   \n",
       "1   Nicaragua  Americas  Latin America and the Caribbean         125.611111   \n",
       "2      Greece    Europe                  Southern Europe         112.000000   \n",
       "3       Qatar      Asia                     Western Asia          57.333333   \n",
       "4  Uzbekistan      Asia                     Central Asia         125.611111   \n",
       "\n",
       "  country_name  population  population_below_poverty_line       hdi  \\\n",
       "0         Peru  32165485.0                           22.7  0.739749   \n",
       "1    Nicaragua   6217581.0                           29.6  0.645203   \n",
       "2       Greece  11159773.0                           36.0  0.865873   \n",
       "3        Qatar   2639211.0                            NaN  0.855531   \n",
       "4   Uzbekistan  31910641.0                           14.0  0.700668   \n",
       "\n",
       "   life_expectancy  expected_years_of_schooling  mean_years_of_schooling  \\\n",
       "0           74.814                     13.38634                 9.013470   \n",
       "1           75.212                     11.67000                 6.544000   \n",
       "2           81.071                     17.21752                10.539460   \n",
       "3           78.323                     13.40610                 9.764630   \n",
       "4           69.400                     12.16651                12.048045   \n",
       "\n",
       "             gni  \n",
       "0   11294.840330  \n",
       "1    4746.699464  \n",
       "2   24807.535890  \n",
       "3  129915.600900  \n",
       "4    5748.226043  "
      ]
     },
     "execution_count": 4,
     "metadata": {},
     "output_type": "execute_result"
    }
   ],
   "source": [
    "# Truncated and cleaned up region data to merge (Week 4 folder)\n",
    "countrydata=pd.read_csv(\"Input/newcountryvars.csv\")\n",
    "\n",
    "countrydata.head()\n",
    "\n",
    "# Merge in new data to X_train and X_test\n",
    "\n",
    "X_train=pd.merge(X_train, countrydata, how='left', left_on='Country or region', right_on='country_name')\n",
    "X_test=pd.merge(X_test, countrydata, how='left', left_on='Country or region', right_on='country_name')\n",
    "\n",
    "X_train.head()"
   ]
  },
  {
   "cell_type": "code",
   "execution_count": 5,
   "metadata": {},
   "outputs": [],
   "source": [
    "desc = X_train.describe()\n",
    "desc.to_csv('Output/descriptive stats.csv')"
   ]
  },
  {
   "cell_type": "code",
   "execution_count": 6,
   "metadata": {},
   "outputs": [
    {
     "data": {
      "text/plain": [
       "88"
      ]
     },
     "execution_count": 6,
     "metadata": {},
     "output_type": "execute_result"
    }
   ],
   "source": [
    "len(X_train)"
   ]
  },
  {
   "cell_type": "code",
   "execution_count": 7,
   "metadata": {},
   "outputs": [
    {
     "data": {
      "text/plain": [
       "Index(['Country or region', 'GDP per capita', 'Social support',\n",
       "       'Healthy life expectancy', 'Freedom to make life choices', 'Generosity',\n",
       "       'Perceptions of corruption', 'name', 'region', 'sub-region',\n",
       "       'Terrorist_attacks', 'country_name', 'population',\n",
       "       'population_below_poverty_line', 'hdi', 'life_expectancy',\n",
       "       'expected_years_of_schooling', 'mean_years_of_schooling', 'gni'],\n",
       "      dtype='object')"
      ]
     },
     "execution_count": 7,
     "metadata": {},
     "output_type": "execute_result"
    }
   ],
   "source": [
    "X_train.columns"
   ]
  },
  {
   "cell_type": "markdown",
   "metadata": {
    "id": "m6RfPemfVAwK"
   },
   "source": [
    "# EDA: Visualize bivariate relationships"
   ]
  },
  {
   "cell_type": "code",
   "execution_count": 8,
   "metadata": {
    "id": "PZA35gsfWYdq"
   },
   "outputs": [],
   "source": [
    "df = pd.concat((X_train, y_train_labels), axis=1)\n",
    "df.rename(columns = {0: 'Happiness'}, inplace = True)\n",
    "df.head()\n",
    "order = ['Very Low', 'Low', 'Average', 'High', 'Very High']\n",
    "df['Happiness'] = pd.Categorical(df['Happiness'], categories=order)\n",
    "df_sorted = df.sort_values(by='Happiness')"
   ]
  },
  {
   "cell_type": "code",
   "execution_count": 9,
   "metadata": {},
   "outputs": [
    {
     "data": {
      "image/png": "[encoded data removed]",
      "text/plain": [
       "<Figure size 576x432 with 1 Axes>"
      ]
     },
     "metadata": {
      "needs_background": "light"
     },
     "output_type": "display_data"
    }
   ],
   "source": [
    "import matplotlib.pyplot as plt\n",
    "import seaborn as sns\n",
    "\n",
    "plt.figure(figsize=(8, 6))\n",
    "sns.histplot(data=df_sorted['Happiness'])\n",
    "plt.savefig('Output/histogram of happiness.png')\n",
    "plt.show()"
   ]
  },
  {
   "cell_type": "code",
   "execution_count": 15,
   "metadata": {
    "colab": {
     "base_uri": "https://localhost:8080/",
     "height": 1000
    },
    "id": "XhuJ3XVF1i_L",
    "outputId": "351c0042-eceb-4155-a2e7-ab3d3ee1dcb0",
    "scrolled": false
   },
   "outputs": [
    {
     "data": {
      "image/png": "[encoded data removed]",
      "text/plain": [
       "<Figure size 432x288 with 1 Axes>"
      ]
     },
     "metadata": {
      "needs_background": "light"
     },
     "output_type": "display_data"
    },
    {
     "data": {
      "image/png": "[encoded data removed]",
      "text/plain": [
       "<Figure size 432x288 with 1 Axes>"
      ]
     },
     "metadata": {
      "needs_background": "light"
     },
     "output_type": "display_data"
    },
    {
     "data": {
      "image/png": "[encoded data removed]",
      "text/plain": [
       "<Figure size 432x288 with 1 Axes>"
      ]
     },
     "metadata": {
      "needs_background": "light"
     },
     "output_type": "display_data"
    },
    {
     "data": {
      "image/png": "[encoded data removed]",
      "text/plain": [
       "<Figure size 432x288 with 1 Axes>"
      ]
     },
     "metadata": {
      "needs_background": "light"
     },
     "output_type": "display_data"
    },
    {
     "data": {
      "image/png": "[encoded data removed]",
      "text/plain": [
       "<Figure size 432x288 with 1 Axes>"
      ]
     },
     "metadata": {
      "needs_background": "light"
     },
     "output_type": "display_data"
    },
    {
     "data": {
      "image/png": "[encoded data removed]",
      "text/plain": [
       "<Figure size 432x288 with 1 Axes>"
      ]
     },
     "metadata": {
      "needs_background": "light"
     },
     "output_type": "display_data"
    },
    {
     "data": {
      "image/png": "[encoded data removed]",
      "text/plain": [
       "<Figure size 432x288 with 1 Axes>"
      ]
     },
     "metadata": {
      "needs_background": "light"
     },
     "output_type": "display_data"
    },
    {
     "data": {
      "image/png": "[encoded data removed]",
      "text/plain": [
       "<Figure size 432x288 with 1 Axes>"
      ]
     },
     "metadata": {
      "needs_background": "light"
     },
     "output_type": "display_data"
    }
   ],
   "source": [
    "plt.hist(df_sorted['Happiness'])\n",
    "plt.title('Frequency of happiness scores')\n",
    "plt.show()\n",
    "\n",
    "columns = ['GDP per capita', 'Social support', 'Healthy life expectancy', 'Freedom to make life choices', 'Generosity', 'Perceptions of corruption', 'Terrorist_attacks']\n",
    "for column in columns:\n",
    "  plt.bar('Happiness', column, data=df_sorted)\n",
    "  plt.title(\"Happiness and \"+str(column))\n",
    "  plt.show()"
   ]
  },
  {
   "cell_type": "markdown",
   "metadata": {
    "id": "z9J_mB5O_XVl"
   },
   "source": [
    "These bar plots show the relationship between happiness level and GDP per capita, social support, healthy life expectancy, freedom to make life choices, generosity, perceptions of corruption, and terrorist attacks.\n",
    "\n",
    "There appear to be positive relationships between happiness and both GDP per capita and social support. There is a weakly positive relationship between happiness and life expectancy.\n",
    "\n",
    "There is heterogeneity in the impact of freedom to make life choices, generosity, and perceptions of corruption. \n",
    "\n",
    "It seems that terrorist attacks are associated with low levels of happiness."
   ]
  },
  {
   "cell_type": "markdown",
   "metadata": {
    "id": "5W_qK4f7Knuk"
   },
   "source": [
    "# Data preprocessing"
   ]
  },
  {
   "cell_type": "code",
   "execution_count": null,
   "metadata": {
    "id": "oIU1f314gboW",
    "scrolled": false
   },
   "outputs": [],
   "source": [
    "!pip install aimodelshare"
   ]
  },
  {
   "cell_type": "code",
   "execution_count": 17,
   "metadata": {
    "colab": {
     "base_uri": "https://localhost:8080/"
    },
    "id": "TJGIaB0hDUSN",
    "outputId": "7df632e5-65e6-4d2d-fcfb-680e7a95d519"
   },
   "outputs": [
    {
     "data": {
      "text/plain": [
       "Index(['Country or region', 'GDP per capita', 'Social support',\n",
       "       'Healthy life expectancy', 'Freedom to make life choices', 'Generosity',\n",
       "       'Perceptions of corruption', 'name', 'region', 'sub-region',\n",
       "       'Terrorist_attacks', 'country_name', 'population',\n",
       "       'population_below_poverty_line', 'hdi', 'life_expectancy',\n",
       "       'expected_years_of_schooling', 'mean_years_of_schooling', 'gni'],\n",
       "      dtype='object')"
      ]
     },
     "execution_count": 17,
     "metadata": {},
     "output_type": "execute_result"
    }
   ],
   "source": [
    "X_train.columns"
   ]
  },
  {
   "cell_type": "code",
   "execution_count": 19,
   "metadata": {
    "id": "zNXnOGBqTWTL"
   },
   "outputs": [],
   "source": [
    "from sklearn.preprocessing import StandardScaler, OneHotEncoder\n",
    "from sklearn.compose import ColumnTransformer, make_column_transformer\n",
    "from sklearn.pipeline import Pipeline\n",
    "from sklearn.impute import SimpleImputer\n",
    "from sklearn.preprocessing import StandardScaler, OneHotEncoder\n",
    "\n",
    "#preprocessing pipelines for both numeric and categorical data.\n",
    "\n",
    "#preprocessing pipeline for numeric data\n",
    "##replace missing with median; scale and center\n",
    "numeric_features = X_train.drop(['country_name','Country or region', 'name', 'region', 'sub-region'], axis=1)\n",
    "numeric_features=numeric_features.columns.tolist()\n",
    "\n",
    "numeric_transformer = Pipeline(steps=[\n",
    "    ('imputer', SimpleImputer(strategy='median')),\n",
    "    ('scaler', StandardScaler())])\n",
    "\n",
    "#preprocessing pipeline for categorical data\n",
    "##replace missing with modal; OHE\n",
    "categorical_features = ['region', 'sub-region']\n",
    "\n",
    "categorical_transformer = Pipeline(steps=[\n",
    "    ('imputer', SimpleImputer(strategy='most_frequent')),\n",
    "    ('onehot', OneHotEncoder(handle_unknown='ignore'))])\n",
    "\n",
    "# final preprocessor object set up with ColumnTransformer\n",
    "preprocessor = ColumnTransformer(\n",
    "    transformers=[\n",
    "        ('num', numeric_transformer, numeric_features),\n",
    "        ('cat', categorical_transformer, categorical_features)])\n",
    "\n",
    "#Fit your preprocessor object\n",
    "preprocess=preprocessor.fit(X_train) \n",
    "\n",
    "# Write function to transform data with preprocessor\n",
    "\n",
    "def preprocessor(data):\n",
    "    data.drop(['Country or region', 'name'], axis=1)\n",
    "    preprocessed_data=preprocess.transform(data)\n",
    "    return preprocessed_data"
   ]
  },
  {
   "cell_type": "code",
   "execution_count": 20,
   "metadata": {
    "colab": {
     "base_uri": "https://localhost:8080/"
    },
    "id": "inO1XaPa0ObX",
    "outputId": "f243f98b-ba43-4017-dc93-0ffcdc0d60c3"
   },
   "outputs": [
    {
     "name": "stdout",
     "output_type": "stream",
     "text": [
      "Your preprocessor is now saved to 'preprocessor.zip'\n"
     ]
    }
   ],
   "source": [
    "import aimodelshare as ai\n",
    "ai.export_preprocessor(preprocessor,\"\") "
   ]
  },
  {
   "cell_type": "code",
   "execution_count": 22,
   "metadata": {
    "colab": {
     "base_uri": "https://localhost:8080/"
    },
    "id": "4mhAn-_e5drq",
    "outputId": "2b6f131f-ec1a-40ea-94b1-3b3a90a11fac"
   },
   "outputs": [
    {
     "name": "stdout",
     "output_type": "stream",
     "text": [
      "['GDP per capita' 'Social support' 'Healthy life expectancy'\n",
      " 'Freedom to make life choices' 'Generosity' 'Perceptions of corruption'\n",
      " 'Terrorist_attacks' 'population' 'population_below_poverty_line' 'hdi'\n",
      " 'life_expectancy' 'expected_years_of_schooling' 'mean_years_of_schooling'\n",
      " 'gni' 'x0_Africa' 'x0_Americas' 'x0_Asia' 'x0_Europe' 'x0_Oceania'\n",
      " 'x1_Australia and New Zealand' 'x1_Central Asia' 'x1_Eastern Asia'\n",
      " 'x1_Eastern Europe' 'x1_Latin America and the Caribbean'\n",
      " 'x1_Northern Africa' 'x1_Northern America' 'x1_Northern Europe'\n",
      " 'x1_South-eastern Asia' 'x1_Southern Asia' 'x1_Southern Europe'\n",
      " 'x1_Sub-Saharan Africa' 'x1_Western Asia' 'x1_Western Europe']\n"
     ]
    }
   ],
   "source": [
    "num_columns = numeric_features\n",
    "cat_columns = preprocess.named_transformers_['cat'].named_steps['onehot'].get_feature_names_out().tolist()\n",
    "prepro_names = num_columns + cat_columns\n",
    "prepro_columns = np.array(prepro_names)\n",
    "print(prepro_columns)"
   ]
  },
  {
   "cell_type": "markdown",
   "metadata": {
    "id": "KOjWSFed3YjW"
   },
   "source": [
    "# EDA: Feature importance models"
   ]
  },
  {
   "cell_type": "code",
   "execution_count": 39,
   "metadata": {
    "colab": {
     "base_uri": "https://localhost:8080/",
     "height": 1000
    },
    "id": "MAVqSF9S3ap8",
    "outputId": "ab178c9b-32c7-40c7-9984-a61080344e1a",
    "scrolled": false
   },
   "outputs": [
    {
     "name": "stdout",
     "output_type": "stream",
     "text": [
      "Log Reg (l1 penalty) numeric feature coefs\n"
     ]
    },
    {
     "data": {
      "text/html": [
       "<div>\n",
       "<style scoped>\n",
       "    .dataframe tbody tr th:only-of-type {\n",
       "        vertical-align: middle;\n",
       "    }\n",
       "\n",
       "    .dataframe tbody tr th {\n",
       "        vertical-align: top;\n",
       "    }\n",
       "\n",
       "    .dataframe thead th {\n",
       "        text-align: right;\n",
       "    }\n",
       "</style>\n",
       "<table border=\"1\" class=\"dataframe\">\n",
       "  <thead>\n",
       "    <tr style=\"text-align: right;\">\n",
       "      <th></th>\n",
       "      <th>Category</th>\n",
       "      <th>Very Low</th>\n",
       "      <th>Low</th>\n",
       "      <th>Average</th>\n",
       "      <th>High</th>\n",
       "      <th>Very High</th>\n",
       "    </tr>\n",
       "  </thead>\n",
       "  <tbody>\n",
       "    <tr>\n",
       "      <th>0</th>\n",
       "      <td>GDP per capita</td>\n",
       "      <td>0.710142</td>\n",
       "      <td>0.000000</td>\n",
       "      <td>0.000000</td>\n",
       "      <td>0.130134</td>\n",
       "      <td>-1.307013</td>\n",
       "    </tr>\n",
       "    <tr>\n",
       "      <th>1</th>\n",
       "      <td>Social support</td>\n",
       "      <td>0.000000</td>\n",
       "      <td>1.546726</td>\n",
       "      <td>0.000000</td>\n",
       "      <td>0.000000</td>\n",
       "      <td>-0.476094</td>\n",
       "    </tr>\n",
       "    <tr>\n",
       "      <th>2</th>\n",
       "      <td>Healthy life expectancy</td>\n",
       "      <td>0.000000</td>\n",
       "      <td>0.638826</td>\n",
       "      <td>-0.403662</td>\n",
       "      <td>0.000000</td>\n",
       "      <td>0.000000</td>\n",
       "    </tr>\n",
       "    <tr>\n",
       "      <th>3</th>\n",
       "      <td>Freedom to make life choices</td>\n",
       "      <td>-0.268848</td>\n",
       "      <td>0.568551</td>\n",
       "      <td>0.000000</td>\n",
       "      <td>0.321856</td>\n",
       "      <td>-0.170953</td>\n",
       "    </tr>\n",
       "    <tr>\n",
       "      <th>4</th>\n",
       "      <td>Generosity</td>\n",
       "      <td>-0.154627</td>\n",
       "      <td>-0.673633</td>\n",
       "      <td>-0.211473</td>\n",
       "      <td>0.869423</td>\n",
       "      <td>0.306567</td>\n",
       "    </tr>\n",
       "    <tr>\n",
       "      <th>5</th>\n",
       "      <td>Perceptions of corruption</td>\n",
       "      <td>0.000000</td>\n",
       "      <td>-0.836730</td>\n",
       "      <td>-0.527650</td>\n",
       "      <td>0.271408</td>\n",
       "      <td>0.255392</td>\n",
       "    </tr>\n",
       "    <tr>\n",
       "      <th>6</th>\n",
       "      <td>Terrorist_attacks</td>\n",
       "      <td>0.000000</td>\n",
       "      <td>0.000000</td>\n",
       "      <td>-1.061107</td>\n",
       "      <td>0.000000</td>\n",
       "      <td>0.990917</td>\n",
       "    </tr>\n",
       "    <tr>\n",
       "      <th>7</th>\n",
       "      <td>population</td>\n",
       "      <td>0.979074</td>\n",
       "      <td>-0.182470</td>\n",
       "      <td>-0.227135</td>\n",
       "      <td>0.000000</td>\n",
       "      <td>0.000000</td>\n",
       "    </tr>\n",
       "    <tr>\n",
       "      <th>8</th>\n",
       "      <td>population_below_poverty_line</td>\n",
       "      <td>0.000000</td>\n",
       "      <td>0.248613</td>\n",
       "      <td>-0.314621</td>\n",
       "      <td>-0.132279</td>\n",
       "      <td>0.217036</td>\n",
       "    </tr>\n",
       "    <tr>\n",
       "      <th>9</th>\n",
       "      <td>hdi</td>\n",
       "      <td>0.000000</td>\n",
       "      <td>0.000000</td>\n",
       "      <td>0.000000</td>\n",
       "      <td>0.000000</td>\n",
       "      <td>0.000000</td>\n",
       "    </tr>\n",
       "    <tr>\n",
       "      <th>10</th>\n",
       "      <td>life_expectancy</td>\n",
       "      <td>0.000000</td>\n",
       "      <td>0.000000</td>\n",
       "      <td>0.000000</td>\n",
       "      <td>0.781817</td>\n",
       "      <td>0.000000</td>\n",
       "    </tr>\n",
       "    <tr>\n",
       "      <th>11</th>\n",
       "      <td>expected_years_of_schooling</td>\n",
       "      <td>0.000000</td>\n",
       "      <td>0.000000</td>\n",
       "      <td>0.000000</td>\n",
       "      <td>0.285834</td>\n",
       "      <td>0.000000</td>\n",
       "    </tr>\n",
       "    <tr>\n",
       "      <th>12</th>\n",
       "      <td>mean_years_of_schooling</td>\n",
       "      <td>0.345283</td>\n",
       "      <td>0.000000</td>\n",
       "      <td>-0.093777</td>\n",
       "      <td>0.000000</td>\n",
       "      <td>0.000000</td>\n",
       "    </tr>\n",
       "    <tr>\n",
       "      <th>13</th>\n",
       "      <td>gni</td>\n",
       "      <td>-2.008523</td>\n",
       "      <td>0.000000</td>\n",
       "      <td>-0.524721</td>\n",
       "      <td>0.927816</td>\n",
       "      <td>0.000000</td>\n",
       "    </tr>\n",
       "    <tr>\n",
       "      <th>14</th>\n",
       "      <td>x0_Africa</td>\n",
       "      <td>0.000000</td>\n",
       "      <td>-1.240545</td>\n",
       "      <td>0.000000</td>\n",
       "      <td>0.000000</td>\n",
       "      <td>0.000000</td>\n",
       "    </tr>\n",
       "    <tr>\n",
       "      <th>15</th>\n",
       "      <td>x0_Americas</td>\n",
       "      <td>-0.312215</td>\n",
       "      <td>0.000000</td>\n",
       "      <td>-0.674670</td>\n",
       "      <td>0.000000</td>\n",
       "      <td>0.000000</td>\n",
       "    </tr>\n",
       "    <tr>\n",
       "      <th>16</th>\n",
       "      <td>x0_Asia</td>\n",
       "      <td>0.000000</td>\n",
       "      <td>0.000000</td>\n",
       "      <td>0.000000</td>\n",
       "      <td>-1.751288</td>\n",
       "      <td>0.000000</td>\n",
       "    </tr>\n",
       "    <tr>\n",
       "      <th>17</th>\n",
       "      <td>x0_Europe</td>\n",
       "      <td>0.000000</td>\n",
       "      <td>-0.977373</td>\n",
       "      <td>-1.161685</td>\n",
       "      <td>0.000000</td>\n",
       "      <td>0.000000</td>\n",
       "    </tr>\n",
       "    <tr>\n",
       "      <th>18</th>\n",
       "      <td>x0_Oceania</td>\n",
       "      <td>0.000000</td>\n",
       "      <td>0.000000</td>\n",
       "      <td>0.000000</td>\n",
       "      <td>0.000000</td>\n",
       "      <td>0.000000</td>\n",
       "    </tr>\n",
       "    <tr>\n",
       "      <th>19</th>\n",
       "      <td>x1_Australia and New Zealand</td>\n",
       "      <td>0.000000</td>\n",
       "      <td>0.000000</td>\n",
       "      <td>0.000000</td>\n",
       "      <td>0.000000</td>\n",
       "      <td>0.000000</td>\n",
       "    </tr>\n",
       "    <tr>\n",
       "      <th>20</th>\n",
       "      <td>x1_Central Asia</td>\n",
       "      <td>0.000000</td>\n",
       "      <td>0.007550</td>\n",
       "      <td>0.000000</td>\n",
       "      <td>0.000000</td>\n",
       "      <td>0.000000</td>\n",
       "    </tr>\n",
       "    <tr>\n",
       "      <th>21</th>\n",
       "      <td>x1_Eastern Asia</td>\n",
       "      <td>0.000000</td>\n",
       "      <td>0.000000</td>\n",
       "      <td>0.000000</td>\n",
       "      <td>0.000000</td>\n",
       "      <td>0.000000</td>\n",
       "    </tr>\n",
       "    <tr>\n",
       "      <th>22</th>\n",
       "      <td>x1_Eastern Europe</td>\n",
       "      <td>0.000000</td>\n",
       "      <td>0.319812</td>\n",
       "      <td>0.000000</td>\n",
       "      <td>0.000000</td>\n",
       "      <td>0.000000</td>\n",
       "    </tr>\n",
       "    <tr>\n",
       "      <th>23</th>\n",
       "      <td>x1_Latin America and the Caribbean</td>\n",
       "      <td>0.000000</td>\n",
       "      <td>0.000000</td>\n",
       "      <td>0.000000</td>\n",
       "      <td>0.000000</td>\n",
       "      <td>0.000000</td>\n",
       "    </tr>\n",
       "    <tr>\n",
       "      <th>24</th>\n",
       "      <td>x1_Northern Africa</td>\n",
       "      <td>0.812798</td>\n",
       "      <td>0.000000</td>\n",
       "      <td>0.000000</td>\n",
       "      <td>0.000000</td>\n",
       "      <td>0.000000</td>\n",
       "    </tr>\n",
       "    <tr>\n",
       "      <th>25</th>\n",
       "      <td>x1_Northern America</td>\n",
       "      <td>0.000000</td>\n",
       "      <td>0.000000</td>\n",
       "      <td>0.000000</td>\n",
       "      <td>0.000000</td>\n",
       "      <td>0.000000</td>\n",
       "    </tr>\n",
       "    <tr>\n",
       "      <th>26</th>\n",
       "      <td>x1_Northern Europe</td>\n",
       "      <td>0.000000</td>\n",
       "      <td>0.000000</td>\n",
       "      <td>0.000000</td>\n",
       "      <td>0.000000</td>\n",
       "      <td>0.000000</td>\n",
       "    </tr>\n",
       "    <tr>\n",
       "      <th>27</th>\n",
       "      <td>x1_South-eastern Asia</td>\n",
       "      <td>0.000000</td>\n",
       "      <td>0.000000</td>\n",
       "      <td>0.000000</td>\n",
       "      <td>-0.348769</td>\n",
       "      <td>0.000000</td>\n",
       "    </tr>\n",
       "    <tr>\n",
       "      <th>28</th>\n",
       "      <td>x1_Southern Asia</td>\n",
       "      <td>0.000000</td>\n",
       "      <td>0.000000</td>\n",
       "      <td>0.166701</td>\n",
       "      <td>0.000000</td>\n",
       "      <td>0.000000</td>\n",
       "    </tr>\n",
       "    <tr>\n",
       "      <th>29</th>\n",
       "      <td>x1_Southern Europe</td>\n",
       "      <td>1.087432</td>\n",
       "      <td>0.000000</td>\n",
       "      <td>0.000000</td>\n",
       "      <td>0.000000</td>\n",
       "      <td>0.000000</td>\n",
       "    </tr>\n",
       "    <tr>\n",
       "      <th>30</th>\n",
       "      <td>x1_Sub-Saharan Africa</td>\n",
       "      <td>-0.885297</td>\n",
       "      <td>0.000000</td>\n",
       "      <td>0.098439</td>\n",
       "      <td>0.000000</td>\n",
       "      <td>0.000000</td>\n",
       "    </tr>\n",
       "    <tr>\n",
       "      <th>31</th>\n",
       "      <td>x1_Western Asia</td>\n",
       "      <td>0.000000</td>\n",
       "      <td>-0.138858</td>\n",
       "      <td>0.123853</td>\n",
       "      <td>0.000000</td>\n",
       "      <td>0.000000</td>\n",
       "    </tr>\n",
       "    <tr>\n",
       "      <th>32</th>\n",
       "      <td>x1_Western Europe</td>\n",
       "      <td>0.000000</td>\n",
       "      <td>-0.262560</td>\n",
       "      <td>0.000000</td>\n",
       "      <td>0.409286</td>\n",
       "      <td>0.000000</td>\n",
       "    </tr>\n",
       "  </tbody>\n",
       "</table>\n",
       "</div>"
      ],
      "text/plain": [
       "                              Category  Very Low       Low   Average  \\\n",
       "0                       GDP per capita  0.710142  0.000000  0.000000   \n",
       "1                       Social support  0.000000  1.546726  0.000000   \n",
       "2              Healthy life expectancy  0.000000  0.638826 -0.403662   \n",
       "3         Freedom to make life choices -0.268848  0.568551  0.000000   \n",
       "4                           Generosity -0.154627 -0.673633 -0.211473   \n",
       "5            Perceptions of corruption  0.000000 -0.836730 -0.527650   \n",
       "6                    Terrorist_attacks  0.000000  0.000000 -1.061107   \n",
       "7                           population  0.979074 -0.182470 -0.227135   \n",
       "8        population_below_poverty_line  0.000000  0.248613 -0.314621   \n",
       "9                                  hdi  0.000000  0.000000  0.000000   \n",
       "10                     life_expectancy  0.000000  0.000000  0.000000   \n",
       "11         expected_years_of_schooling  0.000000  0.000000  0.000000   \n",
       "12             mean_years_of_schooling  0.345283  0.000000 -0.093777   \n",
       "13                                 gni -2.008523  0.000000 -0.524721   \n",
       "14                           x0_Africa  0.000000 -1.240545  0.000000   \n",
       "15                         x0_Americas -0.312215  0.000000 -0.674670   \n",
       "16                             x0_Asia  0.000000  0.000000  0.000000   \n",
       "17                           x0_Europe  0.000000 -0.977373 -1.161685   \n",
       "18                          x0_Oceania  0.000000  0.000000  0.000000   \n",
       "19        x1_Australia and New Zealand  0.000000  0.000000  0.000000   \n",
       "20                     x1_Central Asia  0.000000  0.007550  0.000000   \n",
       "21                     x1_Eastern Asia  0.000000  0.000000  0.000000   \n",
       "22                   x1_Eastern Europe  0.000000  0.319812  0.000000   \n",
       "23  x1_Latin America and the Caribbean  0.000000  0.000000  0.000000   \n",
       "24                  x1_Northern Africa  0.812798  0.000000  0.000000   \n",
       "25                 x1_Northern America  0.000000  0.000000  0.000000   \n",
       "26                  x1_Northern Europe  0.000000  0.000000  0.000000   \n",
       "27               x1_South-eastern Asia  0.000000  0.000000  0.000000   \n",
       "28                    x1_Southern Asia  0.000000  0.000000  0.166701   \n",
       "29                  x1_Southern Europe  1.087432  0.000000  0.000000   \n",
       "30               x1_Sub-Saharan Africa -0.885297  0.000000  0.098439   \n",
       "31                     x1_Western Asia  0.000000 -0.138858  0.123853   \n",
       "32                   x1_Western Europe  0.000000 -0.262560  0.000000   \n",
       "\n",
       "        High  Very High  \n",
       "0   0.130134  -1.307013  \n",
       "1   0.000000  -0.476094  \n",
       "2   0.000000   0.000000  \n",
       "3   0.321856  -0.170953  \n",
       "4   0.869423   0.306567  \n",
       "5   0.271408   0.255392  \n",
       "6   0.000000   0.990917  \n",
       "7   0.000000   0.000000  \n",
       "8  -0.132279   0.217036  \n",
       "9   0.000000   0.000000  \n",
       "10  0.781817   0.000000  \n",
       "11  0.285834   0.000000  \n",
       "12  0.000000   0.000000  \n",
       "13  0.927816   0.000000  \n",
       "14  0.000000   0.000000  \n",
       "15  0.000000   0.000000  \n",
       "16 -1.751288   0.000000  \n",
       "17  0.000000   0.000000  \n",
       "18  0.000000   0.000000  \n",
       "19  0.000000   0.000000  \n",
       "20  0.000000   0.000000  \n",
       "21  0.000000   0.000000  \n",
       "22  0.000000   0.000000  \n",
       "23  0.000000   0.000000  \n",
       "24  0.000000   0.000000  \n",
       "25  0.000000   0.000000  \n",
       "26  0.000000   0.000000  \n",
       "27 -0.348769   0.000000  \n",
       "28  0.000000   0.000000  \n",
       "29  0.000000   0.000000  \n",
       "30  0.000000   0.000000  \n",
       "31  0.000000   0.000000  \n",
       "32  0.409286   0.000000  "
      ]
     },
     "metadata": {},
     "output_type": "display_data"
    },
    {
     "data": {
      "image/png": "[encoded data removed]",
      "text/plain": [
       "<Figure size 432x288 with 1 Axes>"
      ]
     },
     "metadata": {
      "needs_background": "light"
     },
     "output_type": "display_data"
    },
    {
     "name": "stdout",
     "output_type": "stream",
     "text": [
      "\n",
      "\n",
      "Decision Tree feature importances\n"
     ]
    },
    {
     "data": {
      "text/html": [
       "<div>\n",
       "<style scoped>\n",
       "    .dataframe tbody tr th:only-of-type {\n",
       "        vertical-align: middle;\n",
       "    }\n",
       "\n",
       "    .dataframe tbody tr th {\n",
       "        vertical-align: top;\n",
       "    }\n",
       "\n",
       "    .dataframe thead th {\n",
       "        text-align: right;\n",
       "    }\n",
       "</style>\n",
       "<table border=\"1\" class=\"dataframe\">\n",
       "  <thead>\n",
       "    <tr style=\"text-align: right;\">\n",
       "      <th></th>\n",
       "      <th>Category</th>\n",
       "      <th>0</th>\n",
       "    </tr>\n",
       "  </thead>\n",
       "  <tbody>\n",
       "    <tr>\n",
       "      <th>0</th>\n",
       "      <td>GDP per capita</td>\n",
       "      <td>0.252689</td>\n",
       "    </tr>\n",
       "    <tr>\n",
       "      <th>1</th>\n",
       "      <td>Social support</td>\n",
       "      <td>0.105580</td>\n",
       "    </tr>\n",
       "    <tr>\n",
       "      <th>2</th>\n",
       "      <td>Healthy life expectancy</td>\n",
       "      <td>0.191931</td>\n",
       "    </tr>\n",
       "    <tr>\n",
       "      <th>3</th>\n",
       "      <td>Freedom to make life choices</td>\n",
       "      <td>0.043652</td>\n",
       "    </tr>\n",
       "    <tr>\n",
       "      <th>4</th>\n",
       "      <td>Generosity</td>\n",
       "      <td>0.025372</td>\n",
       "    </tr>\n",
       "    <tr>\n",
       "      <th>5</th>\n",
       "      <td>Perceptions of corruption</td>\n",
       "      <td>0.000000</td>\n",
       "    </tr>\n",
       "    <tr>\n",
       "      <th>6</th>\n",
       "      <td>Terrorist_attacks</td>\n",
       "      <td>0.038851</td>\n",
       "    </tr>\n",
       "    <tr>\n",
       "      <th>7</th>\n",
       "      <td>population</td>\n",
       "      <td>0.028544</td>\n",
       "    </tr>\n",
       "    <tr>\n",
       "      <th>8</th>\n",
       "      <td>population_below_poverty_line</td>\n",
       "      <td>0.045377</td>\n",
       "    </tr>\n",
       "    <tr>\n",
       "      <th>9</th>\n",
       "      <td>hdi</td>\n",
       "      <td>0.011010</td>\n",
       "    </tr>\n",
       "    <tr>\n",
       "      <th>10</th>\n",
       "      <td>life_expectancy</td>\n",
       "      <td>0.019029</td>\n",
       "    </tr>\n",
       "    <tr>\n",
       "      <th>11</th>\n",
       "      <td>expected_years_of_schooling</td>\n",
       "      <td>0.058990</td>\n",
       "    </tr>\n",
       "    <tr>\n",
       "      <th>12</th>\n",
       "      <td>mean_years_of_schooling</td>\n",
       "      <td>0.026641</td>\n",
       "    </tr>\n",
       "    <tr>\n",
       "      <th>13</th>\n",
       "      <td>gni</td>\n",
       "      <td>0.000000</td>\n",
       "    </tr>\n",
       "    <tr>\n",
       "      <th>14</th>\n",
       "      <td>x0_Africa</td>\n",
       "      <td>0.000000</td>\n",
       "    </tr>\n",
       "    <tr>\n",
       "      <th>15</th>\n",
       "      <td>x0_Americas</td>\n",
       "      <td>0.000000</td>\n",
       "    </tr>\n",
       "    <tr>\n",
       "      <th>16</th>\n",
       "      <td>x0_Asia</td>\n",
       "      <td>0.050744</td>\n",
       "    </tr>\n",
       "    <tr>\n",
       "      <th>17</th>\n",
       "      <td>x0_Europe</td>\n",
       "      <td>0.000000</td>\n",
       "    </tr>\n",
       "    <tr>\n",
       "      <th>18</th>\n",
       "      <td>x0_Oceania</td>\n",
       "      <td>0.000000</td>\n",
       "    </tr>\n",
       "    <tr>\n",
       "      <th>19</th>\n",
       "      <td>x1_Australia and New Zealand</td>\n",
       "      <td>0.000000</td>\n",
       "    </tr>\n",
       "    <tr>\n",
       "      <th>20</th>\n",
       "      <td>x1_Central Asia</td>\n",
       "      <td>0.000000</td>\n",
       "    </tr>\n",
       "    <tr>\n",
       "      <th>21</th>\n",
       "      <td>x1_Eastern Asia</td>\n",
       "      <td>0.000000</td>\n",
       "    </tr>\n",
       "    <tr>\n",
       "      <th>22</th>\n",
       "      <td>x1_Eastern Europe</td>\n",
       "      <td>0.000000</td>\n",
       "    </tr>\n",
       "    <tr>\n",
       "      <th>23</th>\n",
       "      <td>x1_Latin America and the Caribbean</td>\n",
       "      <td>0.042730</td>\n",
       "    </tr>\n",
       "    <tr>\n",
       "      <th>24</th>\n",
       "      <td>x1_Northern Africa</td>\n",
       "      <td>0.000000</td>\n",
       "    </tr>\n",
       "    <tr>\n",
       "      <th>25</th>\n",
       "      <td>x1_Northern America</td>\n",
       "      <td>0.000000</td>\n",
       "    </tr>\n",
       "    <tr>\n",
       "      <th>26</th>\n",
       "      <td>x1_Northern Europe</td>\n",
       "      <td>0.000000</td>\n",
       "    </tr>\n",
       "    <tr>\n",
       "      <th>27</th>\n",
       "      <td>x1_South-eastern Asia</td>\n",
       "      <td>0.000000</td>\n",
       "    </tr>\n",
       "    <tr>\n",
       "      <th>28</th>\n",
       "      <td>x1_Southern Asia</td>\n",
       "      <td>0.030860</td>\n",
       "    </tr>\n",
       "    <tr>\n",
       "      <th>29</th>\n",
       "      <td>x1_Southern Europe</td>\n",
       "      <td>0.000000</td>\n",
       "    </tr>\n",
       "    <tr>\n",
       "      <th>30</th>\n",
       "      <td>x1_Sub-Saharan Africa</td>\n",
       "      <td>0.000000</td>\n",
       "    </tr>\n",
       "    <tr>\n",
       "      <th>31</th>\n",
       "      <td>x1_Western Asia</td>\n",
       "      <td>0.028000</td>\n",
       "    </tr>\n",
       "    <tr>\n",
       "      <th>32</th>\n",
       "      <td>x1_Western Europe</td>\n",
       "      <td>0.000000</td>\n",
       "    </tr>\n",
       "  </tbody>\n",
       "</table>\n",
       "</div>"
      ],
      "text/plain": [
       "                              Category         0\n",
       "0                       GDP per capita  0.252689\n",
       "1                       Social support  0.105580\n",
       "2              Healthy life expectancy  0.191931\n",
       "3         Freedom to make life choices  0.043652\n",
       "4                           Generosity  0.025372\n",
       "5            Perceptions of corruption  0.000000\n",
       "6                    Terrorist_attacks  0.038851\n",
       "7                           population  0.028544\n",
       "8        population_below_poverty_line  0.045377\n",
       "9                                  hdi  0.011010\n",
       "10                     life_expectancy  0.019029\n",
       "11         expected_years_of_schooling  0.058990\n",
       "12             mean_years_of_schooling  0.026641\n",
       "13                                 gni  0.000000\n",
       "14                           x0_Africa  0.000000\n",
       "15                         x0_Americas  0.000000\n",
       "16                             x0_Asia  0.050744\n",
       "17                           x0_Europe  0.000000\n",
       "18                          x0_Oceania  0.000000\n",
       "19        x1_Australia and New Zealand  0.000000\n",
       "20                     x1_Central Asia  0.000000\n",
       "21                     x1_Eastern Asia  0.000000\n",
       "22                   x1_Eastern Europe  0.000000\n",
       "23  x1_Latin America and the Caribbean  0.042730\n",
       "24                  x1_Northern Africa  0.000000\n",
       "25                 x1_Northern America  0.000000\n",
       "26                  x1_Northern Europe  0.000000\n",
       "27               x1_South-eastern Asia  0.000000\n",
       "28                    x1_Southern Asia  0.030860\n",
       "29                  x1_Southern Europe  0.000000\n",
       "30               x1_Sub-Saharan Africa  0.000000\n",
       "31                     x1_Western Asia  0.028000\n",
       "32                   x1_Western Europe  0.000000"
      ]
     },
     "metadata": {},
     "output_type": "display_data"
    },
    {
     "data": {
      "image/png": "[encoded data removed]",
      "text/plain": [
       "<Figure size 576x432 with 1 Axes>"
      ]
     },
     "metadata": {
      "needs_background": "light"
     },
     "output_type": "display_data"
    }
   ],
   "source": [
    "from sklearn.linear_model import LogisticRegression\n",
    "from sklearn.tree import DecisionTreeClassifier\n",
    "\n",
    "logreg = LogisticRegression(penalty='l1', solver='liblinear')\n",
    "logreg.fit(preprocessor(X_train), y_train_labels)\n",
    "print(\"Log Reg (l1 penalty) numeric feature coefs\")\n",
    "names = (pd.Series(prepro_columns, name='Category'))\n",
    "coefs = (pd.DataFrame(logreg.coef_).T)\n",
    "lrc = pd.concat((names, coefs), axis=1)\n",
    "lrc = lrc.rename({0:'Very Low', 1:'Low', 2:'Average', 3:'High', 4: 'Very High'}, axis=1)\n",
    "display(lrc)\n",
    "\n",
    "sns.barplot(data=lrc, x=lrc.Category, y=lrc.Average)\n",
    "plt.xticks(rotation=90)\n",
    "plt.title('L1 penalized logreg coefficients, colored by happiness level')\n",
    "plt.show()\n",
    "\n",
    "print('\\n')\n",
    "\n",
    "tree = DecisionTreeClassifier()\n",
    "tree.fit(preprocessor(X_train), y_train)\n",
    "print(\"Decision Tree feature importances\")\n",
    "coefs = pd.DataFrame(tree.feature_importances_)\n",
    "names = (pd.Series(prepro_columns, name='Category'))\n",
    "trc = pd.concat((names, coefs), axis=1)\n",
    "display(trc)\n",
    "\n",
    "plt.figure(figsize=(8, 6))\n",
    "sns.barplot(data=trc, x='Category', y=trc[0])\n",
    "plt.xticks(rotation=90)\n",
    "plt.title('Feature importances for numeric features, from Decision Tree Classifier')\n",
    "plt.savefig('Output/featimportances.png')\n",
    "plt.show()"
   ]
  },
  {
   "cell_type": "code",
   "execution_count": null,
   "metadata": {},
   "outputs": [],
   "source": []
  },
  {
   "cell_type": "markdown",
   "metadata": {
    "id": "TZMHlImHLfCM"
   },
   "source": [
    "Here, models were run that perform intrinsic feature selection. \n",
    "\n",
    "In the l1 penalized logreg, the coefficient sizes are compared. This model was chosen because coefficients are deflated and it performs intrinsic feature selection.\n",
    "\n",
    "Decision trees also perform intrinsic feature selection. Here, the feature importance (not coefficient size) is compared directly.\n",
    "\n",
    "The models show similar findings. GDP per capita and social support are important factors in predicting happiness, and Generosity is not an important factor. \n",
    "\n",
    "Finally, by way of EDA, KMeans Clustering was run (below) to find potential clusters."
   ]
  },
  {
   "cell_type": "markdown",
   "metadata": {
    "id": "6JHigJLAU017"
   },
   "source": [
    "# Prediction models"
   ]
  },
  {
   "cell_type": "code",
   "execution_count": 40,
   "metadata": {
    "colab": {
     "base_uri": "https://localhost:8080/"
    },
    "id": "sKePpvXiD0Dw",
    "outputId": "d55a6935-01f8-46d6-c760-b1e81722e2d5"
   },
   "outputs": [
    {
     "name": "stdout",
     "output_type": "stream",
     "text": [
      "(70, 19)\n",
      "(18, 19)\n",
      "(70,)\n",
      "(18,)\n"
     ]
    }
   ],
   "source": [
    "from sklearn.model_selection import train_test_split\n",
    "from sklearn.model_selection import GridSearchCV\n",
    "\n",
    "#train test split training data to create labeled test set for hyperparameter tuning\n",
    "\n",
    "X_train_train, X_train_test, y_train_train, y_train_test = train_test_split(X_train, y_train_labels, test_size=0.2, stratify=y_train_labels, random_state=0)\n",
    "print(X_train_train.shape)\n",
    "print(X_train_test.shape)\n",
    "print(y_train_train.shape)\n",
    "print(y_train_test.shape)\n"
   ]
  },
  {
   "cell_type": "markdown",
   "metadata": {
    "id": "_1kUk7cKDwtN"
   },
   "source": [
    "##### Gradient Boosting Classifier"
   ]
  },
  {
   "cell_type": "code",
   "execution_count": 41,
   "metadata": {
    "colab": {
     "base_uri": "https://localhost:8080/"
    },
    "id": "3NKA7unyOXAq",
    "outputId": "0a6db68e-d001-44f1-9e15-b9e2ed08ab25"
   },
   "outputs": [
    {
     "name": "stdout",
     "output_type": "stream",
     "text": [
      "0.5\n"
     ]
    },
    {
     "data": {
      "text/plain": [
       "{'learning_rate': 0.1, 'n_estimators': 201}"
      ]
     },
     "execution_count": 41,
     "metadata": {},
     "output_type": "execute_result"
    }
   ],
   "source": [
    "from sklearn.ensemble import GradientBoostingClassifier\n",
    "\n",
    "#Example code to fit model:\n",
    "gbc = GradientBoostingClassifier(random_state=0, max_depth=10)\n",
    "param_grid = {'n_estimators':np.arange(1, 500, 100), 'learning_rate':(0.01, 0.1, 1)}\n",
    "grid = GridSearchCV(gbc, param_grid=param_grid, cv=10).fit(preprocessor(X_train_train), y_train_train)\n",
    "print(grid.score(preprocessor(X_train_test), y_train_test))\n",
    "grid.best_params_"
   ]
  },
  {
   "cell_type": "code",
   "execution_count": 42,
   "metadata": {
    "colab": {
     "base_uri": "https://localhost:8080/"
    },
    "id": "O18HnLThFGYN",
    "outputId": "929b2e82-d3cb-4c3d-dfc0-fea97b5cd079"
   },
   "outputs": [
    {
     "name": "stdout",
     "output_type": "stream",
     "text": [
      "1.0\n",
      "0.5\n"
     ]
    }
   ],
   "source": [
    "model1 = GradientBoostingClassifier(random_state=0, max_depth=10, learning_rate=1, n_estimators=201).fit(preprocessor(X_train_train), y_train_train)\n",
    "print(model1.score(preprocessor(X_train_train), y_train_train)) # Fit score, 0-1 scale.\n",
    "print(model1.score(preprocessor(X_train_test), y_train_test))"
   ]
  },
  {
   "cell_type": "markdown",
   "metadata": {
    "id": "dufuzM3QFVzM"
   },
   "source": [
    "##### Random Forest Classifier"
   ]
  },
  {
   "cell_type": "code",
   "execution_count": null,
   "metadata": {
    "colab": {
     "base_uri": "https://localhost:8080/"
    },
    "id": "ZSJtZC7wBA3d",
    "outputId": "f4e6a9f4-731b-43d0-cce9-b022adc65e0d"
   },
   "outputs": [],
   "source": [
    "from sklearn.ensemble import RandomForestClassifier\n",
    "\n",
    "rfc = RandomForestClassifier()\n",
    "param_grid = {'n_estimators':np.arange(1,1100, 100), 'max_depth':np.arange(1,50, 5)}\n",
    "grid2 = GridSearchCV(rfc, param_grid=param_grid,cv=10).fit(preprocessor(X_train_train), y_train_train)\n",
    "print(grid2.score(preprocessor(X_train_test), y_train_test))\n",
    "grid2.best_params_"
   ]
  },
  {
   "cell_type": "code",
   "execution_count": null,
   "metadata": {
    "colab": {
     "base_uri": "https://localhost:8080/"
    },
    "id": "VkSmip55FKET",
    "outputId": "52b67372-d9c7-4f92-e59e-118fe7ef908f"
   },
   "outputs": [],
   "source": [
    "model2 = RandomForestClassifier(n_estimators=1001, max_depth=6).fit(preprocessor(X_train_train), y_train_train)\n",
    "print(model2.score(preprocessor(X_train_train), y_train_train)) # Fit score, 0-1 scale.\n",
    "print(model2.score(preprocessor(X_train_test), y_train_test))"
   ]
  },
  {
   "cell_type": "markdown",
   "metadata": {
    "id": "ovraR5CpFf8M"
   },
   "source": [
    "##### KNN Classifier"
   ]
  },
  {
   "cell_type": "code",
   "execution_count": null,
   "metadata": {
    "colab": {
     "base_uri": "https://localhost:8080/"
    },
    "id": "xThWeUWnBgfk",
    "outputId": "138bc0ec-d6af-414b-b0cf-7dcc5f9d4ebe"
   },
   "outputs": [],
   "source": [
    "from sklearn.neighbors import KNeighborsClassifier\n",
    "\n",
    "knn = KNeighborsClassifier()\n",
    "param_grid = {'n_neighbors':np.arange(1,21,2)}\n",
    "grid3 = GridSearchCV(knn, param_grid=param_grid, cv=10).fit(preprocessor(X_train_train), y_train_train)\n",
    "print(grid3.score(preprocessor(X_train_test), y_train_test))\n",
    "grid3.best_params_"
   ]
  },
  {
   "cell_type": "code",
   "execution_count": null,
   "metadata": {
    "colab": {
     "base_uri": "https://localhost:8080/"
    },
    "id": "fS_TOhwPHhky",
    "outputId": "722502f3-ffe8-4d4e-e374-cd2dd849fd6a"
   },
   "outputs": [],
   "source": [
    "model3 = KNeighborsClassifier(n_neighbors=11).fit(preprocessor(X_train_train), y_train_train)\n",
    "print(model3.score(preprocessor(X_train_train), y_train_train)) # Fit score, 0-1 scale.\n",
    "print(model3.score(preprocessor(X_train_test), y_train_test))"
   ]
  },
  {
   "cell_type": "markdown",
   "metadata": {
    "id": "0ht6FHK7EkJ3"
   },
   "source": [
    "##### SVC"
   ]
  },
  {
   "cell_type": "code",
   "execution_count": null,
   "metadata": {
    "colab": {
     "base_uri": "https://localhost:8080/"
    },
    "id": "UaVt8S-iEpJ6",
    "outputId": "202d81fb-8eba-436f-b6d7-e28392c786a5"
   },
   "outputs": [],
   "source": [
    "from sklearn.svm import SVC\n",
    "\n",
    "svc = SVC()\n",
    "param_grid = {'C': [0.1, 1, 10, 100, 1000], 'gamma': [1, 0.1, 0.01, 0.001, 0.0001],'kernel': ['rbf']} \n",
    "grid4 = GridSearchCV(svc, param_grid=param_grid, cv=10).fit(preprocessor(X_train_train), y_train_train)\n",
    "print(grid4.score(preprocessor(X_train_test), y_train_test))\n",
    "grid4.best_params_"
   ]
  },
  {
   "cell_type": "code",
   "execution_count": null,
   "metadata": {
    "colab": {
     "base_uri": "https://localhost:8080/"
    },
    "id": "IIUma0GvF2gL",
    "outputId": "75091db9-d394-4a90-b209-7c22529197f0"
   },
   "outputs": [],
   "source": [
    "model4 = SVC(C=100, gamma=0.001, kernel='rbf').fit(preprocessor(X_train_train), y_train_train)\n",
    "print(model4.score(preprocessor(X_train_train), y_train_train)) # Fit score, 0-1 scale.\n",
    "print(model4.score(preprocessor(X_train_test), y_train_test))"
   ]
  },
  {
   "cell_type": "markdown",
   "metadata": {
    "id": "qVmS4ivuEl8a"
   },
   "source": [
    "##### Bagging Classifier"
   ]
  },
  {
   "cell_type": "code",
   "execution_count": null,
   "metadata": {
    "colab": {
     "base_uri": "https://localhost:8080/"
    },
    "id": "0TXGwW1MEOBa",
    "outputId": "8a4486c3-1275-42dd-c5fc-8667cda228b6"
   },
   "outputs": [],
   "source": [
    "from sklearn.ensemble import BaggingClassifier\n",
    "\n",
    "model5 = BaggingClassifier().fit(preprocessor(X_train_train), y_train_train)\n",
    "print(model5.score(preprocessor(X_train_train), y_train_train)) # Fit score, 0-1 scale.\n",
    "print(model5.score(preprocessor(X_train_test), y_train_test))"
   ]
  },
  {
   "cell_type": "markdown",
   "metadata": {
    "id": "YGjm7-sOTk5m"
   },
   "source": [
    "## Fit and save out model (done for each of the models listed above)"
   ]
  },
  {
   "cell_type": "code",
   "execution_count": null,
   "metadata": {
    "id": "DHOmHWE_utIG"
   },
   "outputs": [],
   "source": [
    "model = model5"
   ]
  },
  {
   "cell_type": "code",
   "execution_count": null,
   "metadata": {
    "id": "tZWHprtPTrl0"
   },
   "outputs": [],
   "source": [
    "# Save sklearn model to local ONNX file\n",
    "from aimodelshare.aimsonnx import model_to_onnx\n",
    "\n",
    "# Check how many preprocessed input features are there?\n",
    "from skl2onnx.common.data_types import FloatTensorType\n",
    "\n",
    "feature_count=preprocessor(X_test).shape[1] #Get count of preprocessed features\n",
    "initial_type = [('float_input', FloatTensorType([None, feature_count]))]  #Insert correct number of preprocessed features\n",
    "\n",
    "onnx_model = model_to_onnx(model, framework='sklearn',\n",
    "                          initial_types=initial_type,\n",
    "                          transfer_learning=False,\n",
    "                          deep_learning=False)\n",
    "\n",
    "with open(\"model.onnx\", \"wb\") as f:\n",
    "    f.write(onnx_model.SerializeToString())"
   ]
  },
  {
   "cell_type": "markdown",
   "metadata": {
    "id": "VwUU3y5_Tt5d"
   },
   "source": [
    "## Generate predictions and submit model (done for each of the 6 models listed above)"
   ]
  },
  {
   "cell_type": "code",
   "execution_count": 43,
   "metadata": {
    "colab": {
     "base_uri": "https://localhost:8080/"
    },
    "id": "1pv087aJTvGE",
    "outputId": "0816ae7e-cae8-413a-922d-0d52c17a8745"
   },
   "outputs": [
    {
     "name": "stdout",
     "output_type": "stream",
     "text": [
      "Modelshare.ai Username:········\n",
      "Modelshare.ai Password:········\n",
      "Modelshare.ai login credentials set successfully.\n"
     ]
    }
   ],
   "source": [
    "#Set credentials using modelshare.org username/password\n",
    "\n",
    "from aimodelshare.aws import set_credentials\n",
    "\n",
    "#This is the unique rest api that powers this World Happiness Classification Playground -- make sure to update the apiurl for new competition deployments\n",
    "apiurl=\"https://e2w6gh3id1.execute-api.us-east-2.amazonaws.com/prod/m\"\n",
    "\n",
    "set_credentials(apiurl=apiurl)\n",
    "\n",
    "#Instantiate Competition\n",
    "import aimodelshare as ai\n",
    "mycompetition= ai.Competition(apiurl)"
   ]
  },
  {
   "cell_type": "code",
   "execution_count": null,
   "metadata": {
    "colab": {
     "base_uri": "https://localhost:8080/"
    },
    "id": "DGu-5gV9vCyb",
    "outputId": "9591a19b-ad82-4eb8-c92c-a28f74dee3e3"
   },
   "outputs": [],
   "source": [
    "#-- Generate predicted values \n",
    "prediction_labels = model.predict(preprocessor(X_test))\n",
    "\n",
    "# Submit model to Competition Leaderboard\n",
    "mycompetition.submit_model(model_filepath = \"model.onnx\",\n",
    "                                 preprocessor_filepath=\"preprocessor.zip\",\n",
    "                                 prediction_submission=prediction_labels,\n",
    "                                  custom_metadata = {'team':'7'})\n"
   ]
  },
  {
   "cell_type": "markdown",
   "metadata": {
    "id": "lUcJ4LeJEXKx"
   },
   "source": [
    "# Outcomes"
   ]
  },
  {
   "cell_type": "code",
   "execution_count": 51,
   "metadata": {
    "scrolled": false
   },
   "outputs": [],
   "source": [
    "# Get leaderboard to explore current best model architectures\n",
    "\n",
    "# Get raw data in pandas data frame\n",
    "data = mycompetition.get_leaderboard()\n",
    "\n",
    "my_data = data[data['username'] == 'lprockop']\n",
    "\n",
    "# Stylize leaderboard data\n",
    "mycompetition.stylize_leaderboard(my_data)\n",
    "\n",
    "my_results = my_data[['accuracy', 'f1_score', 'precision', 'recall', 'ml_framework', 'model_type', 'username', 'timestamp', 'version']]\n",
    "my_results.to_csv('Output/my_results.csv')"
   ]
  },
  {
   "cell_type": "markdown",
   "metadata": {
    "id": "PGWx46n1Npvl"
   },
   "source": [
    "First, I submitted a Gradient Boosting Classifier, Random Forest Classifier, and KNN Classifier. These models didn't perform particularly well and appeared to be overfit to the training data. The random forest had accuracy 0.441176 and f1 below 0.4 for both models. My team's advice was to test different architectures, including suggested a Bagging Classifier and SVC. They also suggested changing the hyper-parameters. \n",
    "\n",
    "After hyper-parameter tuning, I submitted a Bagging Classifier, SVC, and a few other Gradient Boosting Classifiers with different hyper parameters. The final models are shown below.\n",
    "\n",
    "Only two models had accuracy above 0.5. Neither had f1 scores above 0.5. The two best models were gradient boosted classifier and SVM. \n",
    "\n",
    "Overall, the best performing model was a gradient boosted classifier with hyper parameters: {'learning_rate': 1, 'n_estimators': 101}. The accuracy was 0.529412 for this model and f1 score was 0.496121. All of the models and their comparative metrics are shown below."
   ]
  },
  {
   "cell_type": "code",
   "execution_count": 58,
   "metadata": {},
   "outputs": [
    {
     "data": {
      "image/png": "[encoded data removed]",
      "text/plain": [
       "<Figure size 576x432 with 1 Axes>"
      ]
     },
     "metadata": {
      "needs_background": "light"
     },
     "output_type": "display_data"
    }
   ],
   "source": [
    "test_data = data[['accuracy', 'f1_score', 'model_type', 'username']]\n",
    "\n",
    "plt.figure(figsize=(8, 6))\n",
    "sns.boxplot(data=test_data, x='model_type', y='f1_score')\n",
    "plt.xticks(rotation=90)\n",
    "plt.savefig('Output/performance by model architecture.png')\n",
    "plt.show()"
   ]
  },
  {
   "cell_type": "code",
   "execution_count": 59,
   "metadata": {},
   "outputs": [
    {
     "name": "stderr",
     "output_type": "stream",
     "text": [
      "C:\\Users\\lproc\\AppData\\Local\\Temp\\ipykernel_8132\\2112764417.py:8: SettingWithCopyWarning: \n",
      "A value is trying to be set on a copy of a slice from a DataFrame.\n",
      "Try using .loc[row_indexer,col_indexer] = value instead\n",
      "\n",
      "See the caveats in the documentation: https://pandas.pydata.org/pandas-docs/stable/user_guide/indexing.html#returning-a-view-versus-a-copy\n",
      "  test_data['lprockop'] = mine\n"
     ]
    }
   ],
   "source": [
    "mine = []\n",
    "for i in test_data['username']:\n",
    "    if i == 'lprockop':\n",
    "        mine.append(1)\n",
    "    else:\n",
    "        mine.append(0)\n",
    "        \n",
    "test_data['lprockop'] = mine"
   ]
  },
  {
   "cell_type": "code",
   "execution_count": 128,
   "metadata": {
    "scrolled": false
   },
   "outputs": [
    {
     "data": {
      "image/png": "[encoded data removed]",
      "text/plain": [
       "<Figure size 576x432 with 1 Axes>"
      ]
     },
     "metadata": {
      "needs_background": "light"
     },
     "output_type": "display_data"
    }
   ],
   "source": [
    "plt.figure(figsize=(8, 6))\n",
    "plt.scatter(test_data.accuracy, test_data.f1_score, c=test_data.lprockop, cmap='winter_r')\n",
    "plt.xticks(rotation=90)\n",
    "plt.xlabel('Accuracy')\n",
    "plt.ylabel('F1 score')\n",
    "plt.title('Accuracy vs. F1 score for all models submitted, mine shown in blue')\n",
    "plt.savefig('Output/full model performance.png')\n",
    "plt.show()"
   ]
  },
  {
   "cell_type": "code",
   "execution_count": 129,
   "metadata": {},
   "outputs": [
    {
     "data": {
      "text/plain": [
       "943"
      ]
     },
     "execution_count": 129,
     "metadata": {},
     "output_type": "execute_result"
    }
   ],
   "source": [
    "len(data)"
   ]
  },
  {
   "cell_type": "code",
   "execution_count": null,
   "metadata": {
    "colab": {
     "base_uri": "https://localhost:8080/",
     "height": 800
    },
    "id": "2mp6Dtb7Jhar",
    "outputId": "5e68e5f0-cd49-43eb-c05b-291f469cba59"
   },
   "outputs": [],
   "source": [
    "results = pd.read_csv('public-leaderboard.csv')\n",
    "print(results.columns)\n",
    "results.head(n=15)"
   ]
  },
  {
   "cell_type": "code",
   "execution_count": null,
   "metadata": {
    "colab": {
     "base_uri": "https://localhost:8080/",
     "height": 223
    },
    "id": "bn3RgDZlKeLr",
    "outputId": "232f756b-7541-43ef-8fba-bcf2c8deb772"
   },
   "outputs": [],
   "source": [
    "print(\"Best accuracy and f1 score for each model type:\")\n",
    "display(results[['ACCURACY', 'F1_SCORE']].groupby(results['MODEL_TYPE']).max())"
   ]
  },
  {
   "cell_type": "code",
   "execution_count": null,
   "metadata": {
    "colab": {
     "base_uri": "https://localhost:8080/",
     "height": 621
    },
    "id": "wb94rIVeJrfu",
    "outputId": "ed8105b1-4ec0-4a5a-ab9e-a1dcb2e18a57"
   },
   "outputs": [],
   "source": [
    "plt.figure(figsize=(15, 10))\n",
    "plt.bar(results.index, results['F1_SCORE'], alpha=1, color='blue', label='F1 score')\n",
    "plt.bar(results.index, results['ACCURACY'], alpha=0.4, color='green', label='Accuracy')\n",
    "plt.xlabel('Model number (see table above for type)')\n",
    "plt.title('F1 score and accuracy for models tested')\n",
    "plt.legend()\n",
    "plt.show()"
   ]
  },
  {
   "cell_type": "code",
   "execution_count": null,
   "metadata": {
    "colab": {
     "base_uri": "https://localhost:8080/",
     "height": 621
    },
    "id": "aMFat5odM89J",
    "outputId": "affd8e3f-fd45-4eab-81ca-6a607b3c7f93"
   },
   "outputs": [],
   "source": [
    "plt.figure(figsize=(15, 10))\n",
    "plt.bar(results.index, results['PRECISION'], alpha=0.5, color='yellow', label='Precision')\n",
    "plt.bar(results.index, results['RECALL'], alpha=1, color='red', label='Recall')\n",
    "plt.xlabel('Model number (see table above for type)')\n",
    "plt.title('Precision and recall for models tested')\n",
    "plt.legend()\n",
    "plt.show()"
   ]
  }
 ],
 "metadata": {
  "colab": {
   "provenance": []
  },
  "kernelspec": {
   "display_name": "Python 3 (ipykernel)",
   "language": "python",
   "name": "python3"
  },
  "language_info": {
   "codemirror_mode": {
    "name": "ipython",
    "version": 3
   },
   "file_extension": ".py",
   "mimetype": "text/x-python",
   "name": "python",
   "nbconvert_exporter": "python",
   "pygments_lexer": "ipython3",
   "version": "3.9.12"
  }
 },
 "nbformat": 4,
 "nbformat_minor": 1
}
